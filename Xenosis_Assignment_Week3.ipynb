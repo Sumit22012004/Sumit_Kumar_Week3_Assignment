{
  "nbformat": 4,
  "nbformat_minor": 0,
  "metadata": {
    "colab": {
      "provenance": [],
      "authorship_tag": "ABX9TyOI81iFlNWxsHnC8K+ROXeK",
      "include_colab_link": true
    },
    "kernelspec": {
      "name": "python3",
      "display_name": "Python 3"
    },
    "language_info": {
      "name": "python"
    }
  },
  "cells": [
    {
      "cell_type": "markdown",
      "metadata": {
        "id": "view-in-github",
        "colab_type": "text"
      },
      "source": [
        "<a href=\"https://colab.research.google.com/github/Sumit22012004/Sumit_Kumar_Week3_Assignment/blob/main/Xenosis_Assignment_Week3.ipynb\" target=\"_parent\"><img src=\"https://colab.research.google.com/assets/colab-badge.svg\" alt=\"Open In Colab\"/></a>"
      ]
    },
    {
      "cell_type": "code",
      "execution_count": null,
      "metadata": {
        "colab": {
          "base_uri": "https://localhost:8080/"
        },
        "id": "AJaBlVfXcZ9f",
        "outputId": "05af6deb-b123-4f7f-b5b0-d0a0e561532f"
      },
      "outputs": [
        {
          "output_type": "stream",
          "name": "stdout",
          "text": [
            "Enter the starting number of the range: 3\n",
            "Enter the ending number of the range: 8\n",
            "3\n",
            "5\n",
            "7\n"
          ]
        }
      ],
      "source": [
        "# Question1= Write a program that defines a function to check whether a number is prime. Use this function in a script to find all prime numbers within a given range.\n",
        "\n",
        "# Solution=\n",
        "\n",
        "# Step 1: Accept user input for the range\n",
        "start_range = int(input(\"Enter the starting number of the range: \"))\n",
        "end_range = int(input(\"Enter the ending number of the range: \"))\n",
        "# Step 2: Initialize a variable to iterate over the range\n",
        "current_number = start_range\n",
        "# Step 3: Loop through each number in the given range\n",
        "while current_number <= end_range:\n",
        "    # Step 4: Assume current number is prime\n",
        "    is_prime = True\n",
        "    # Step 5: Check if the current number is greater than 1 (as prime numbers are greater than 1)\n",
        "    if current_number > 1:\n",
        "        # Step 6: Check if the current number has any divisor other than 1 and itself\n",
        "        divisor = 2\n",
        "        while divisor <= current_number // 2:\n",
        "            if current_number % divisor == 0:\n",
        "                # If a divisor is found, the number is not prime\n",
        "                is_prime = False\n",
        "                break\n",
        "            divisor += 1\n",
        "        # Step 7: If the number is still marked as prime, print it\n",
        "        if is_prime:\n",
        "            print(current_number)\n",
        "    # Move to the next number\n",
        "    current_number += 1"
      ]
    },
    {
      "cell_type": "code",
      "source": [
        "# Question2= Create a Python module that contains functions for common mathematical operations (e.g., factorial, greatest common divisor). Write a script that imports this module and uses its functions.\n",
        "\n",
        "# Solution2=\n",
        "\n",
        "# Step 1: Import the math module\n",
        "import math\n",
        "# Step 2: Accept user input for the factorial calculation\n",
        "number = int(input(\"Enter a number to calculate its factorial: \"))\n",
        "# Step 3: Call the factorial function and display the result\n",
        "fact_result = math.factorial(number)\n",
        "print(\"Factorial of\", number, \"is:\", fact_result)\n",
        "# Step 4: Accept user input for the GCD calculation\n",
        "num1 = int(input(\"Enter the first number to find the GCD: \"))\n",
        "num2 = int(input(\"Enter the second number to find the GCD: \"))\n",
        "# Step 5: Call the gcd function and display the result\n",
        "gcd_result = math.gcd(num1, num2)\n",
        "print(\"Greatest Common Divisor of\", num1, \"and\", num2, \"is:\", gcd_result)\n"
      ],
      "metadata": {
        "colab": {
          "base_uri": "https://localhost:8080/"
        },
        "id": "xiTvyPWxdrrY",
        "outputId": "6d92ce92-591e-42a0-a97b-e5252fbdd78c"
      },
      "execution_count": null,
      "outputs": [
        {
          "output_type": "stream",
          "name": "stdout",
          "text": [
            "Enter a number to calculate its factorial: 5\n",
            "Factorial of 5 is: 120\n",
            "Enter the first number to find the GCD: 6\n",
            "Enter the second number to find the GCD: 3\n",
            "Greatest Common Divisor of 6 and 3 is: 3\n"
          ]
        }
      ]
    },
    {
      "cell_type": "code",
      "source": [
        "# Question3= Implement a program that calculates the Fibonacci sequence up to a specified number using both iterative and recursive approaches.\n",
        "\n",
        "# Solution3=\n",
        "\n",
        "# Iterative approach\n",
        "\n",
        "# Step 1: Accept user input for the maximum number in the Fibonacci sequence\n",
        "max_number = int(input(\"Enter the maximum number for the Fibonacci sequence: \"))\n",
        "# Step 2: Initialize variables for the first two Fibonacci numbers\n",
        "a = 0  # First number in the Fibonacci sequence\n",
        "b = 1  # Second number in the Fibonacci sequence\n",
        "# Step 3: Print the first two Fibonacci numbers\n",
        "print(\"Fibonacci sequence (iterative):\")\n",
        "print(a)\n",
        "print(b)\n",
        "# Step 4: Use a loop to calculate the Fibonacci sequence up to the specified number\n",
        "while True:\n",
        "    # Calculate the next Fibonacci number\n",
        "    next_number = a + b\n",
        "    # Break the loop if the next number exceeds the specified maximum number\n",
        "    if next_number > max_number:\n",
        "        break\n",
        "    # Print the next Fibonacci number\n",
        "    print(next_number)\n",
        "    # Update the values of a and b for the next iteration\n",
        "    a = b\n",
        "    b = next_number\n",
        "\n",
        "# Recursive approach\n",
        "\n",
        "# Step 1: Accept user input for the maximum number in the Fibonacci sequence\n",
        "max_number = int(input(\"Enter the maximum number for the Fibonacci sequence: \"))\n",
        "# Step 2: Initialize variables for the first two Fibonacci numbers\n",
        "a = 0  # First number in the Fibonacci sequence\n",
        "b = 1  # Second number in the Fibonacci sequence\n",
        "# Step 3: Print the first two Fibonacci numbers\n",
        "print(\"Fibonacci sequence (recursive):\")\n",
        "print(a)\n",
        "print(b)\n",
        "# Step 4: Initialize variables for recursion\n",
        "current_a = a\n",
        "current_b = b\n",
        "# Step 5: Use a loop to recursively calculate the Fibonacci sequence\n",
        "while True:\n",
        "    # Calculate the next Fibonacci number using recursion\n",
        "    next_number = current_a + current_b\n",
        "\n",
        "    # Break the loop if the next number exceeds the specified maximum number\n",
        "    if next_number > max_number:\n",
        "        break\n",
        "    # Print the next Fibonacci number\n",
        "    print(next_number)\n",
        "    # Update the values of a and b for the next recursive call\n",
        "    current_a = current_b\n",
        "    current_b = next_number"
      ],
      "metadata": {
        "colab": {
          "base_uri": "https://localhost:8080/"
        },
        "id": "S5_bal_jeQlP",
        "outputId": "6f0cbda6-948e-410c-e1f8-7c5910b0d5cd"
      },
      "execution_count": null,
      "outputs": [
        {
          "output_type": "stream",
          "name": "stdout",
          "text": [
            "Enter the maximum number for the Fibonacci sequence: 7\n",
            "Fibonacci sequence (iterative):\n",
            "0\n",
            "1\n",
            "1\n",
            "2\n",
            "3\n",
            "5\n",
            "Enter the maximum number for the Fibonacci sequence: 7\n",
            "Fibonacci sequence (recursive):\n",
            "0\n",
            "1\n",
            "1\n",
            "2\n",
            "3\n",
            "5\n"
          ]
        }
      ]
    }
  ]
}